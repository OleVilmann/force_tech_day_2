{
 "cells": [
  {
   "cell_type": "markdown",
   "metadata": {},
   "source": [
    "### Mini exercise \n",
    "\n",
    "Try to utilize the the reset index, subsetting and pd.melt to plot `High` and `Low` for each day in the data-set `sp500`.\n",
    "\n",
    "Use \n",
    "\n",
    "```python\n",
    "import plotly.express as px\n",
    "```\n",
    "if you want"
   ]
  },
  {
   "cell_type": "markdown",
   "metadata": {},
   "source": [
    "<img src=\"https://pandas.pydata.org/pandas-docs/stable/_images/reshaping_melt.png\">"
   ]
  },
  {
   "cell_type": "code",
   "execution_count": 25,
   "metadata": {
    "scrolled": true
   },
   "outputs": [
    {
     "data": {
      "text/html": [
       "<div>\n",
       "<style scoped>\n",
       "    .dataframe tbody tr th:only-of-type {\n",
       "        vertical-align: middle;\n",
       "    }\n",
       "\n",
       "    .dataframe tbody tr th {\n",
       "        vertical-align: top;\n",
       "    }\n",
       "\n",
       "    .dataframe thead th {\n",
       "        text-align: right;\n",
       "    }\n",
       "</style>\n",
       "<table border=\"1\" class=\"dataframe\">\n",
       "  <thead>\n",
       "    <tr style=\"text-align: right;\">\n",
       "      <th></th>\n",
       "      <th>Open</th>\n",
       "      <th>High</th>\n",
       "      <th>Low</th>\n",
       "      <th>Close</th>\n",
       "      <th>Adj Close</th>\n",
       "      <th>Volume</th>\n",
       "    </tr>\n",
       "    <tr>\n",
       "      <th>Date</th>\n",
       "      <th></th>\n",
       "      <th></th>\n",
       "      <th></th>\n",
       "      <th></th>\n",
       "      <th></th>\n",
       "      <th></th>\n",
       "    </tr>\n",
       "  </thead>\n",
       "  <tbody>\n",
       "    <tr>\n",
       "      <th>2012-10-01</th>\n",
       "      <td>1440.900024</td>\n",
       "      <td>1457.140015</td>\n",
       "      <td>1440.900024</td>\n",
       "      <td>1444.489990</td>\n",
       "      <td>1444.489990</td>\n",
       "      <td>3505080000</td>\n",
       "    </tr>\n",
       "    <tr>\n",
       "      <th>2012-10-02</th>\n",
       "      <td>1444.989990</td>\n",
       "      <td>1451.520020</td>\n",
       "      <td>1439.010010</td>\n",
       "      <td>1445.750000</td>\n",
       "      <td>1445.750000</td>\n",
       "      <td>3321790000</td>\n",
       "    </tr>\n",
       "    <tr>\n",
       "      <th>2012-10-03</th>\n",
       "      <td>1446.050049</td>\n",
       "      <td>1454.300049</td>\n",
       "      <td>1441.989990</td>\n",
       "      <td>1450.989990</td>\n",
       "      <td>1450.989990</td>\n",
       "      <td>3531640000</td>\n",
       "    </tr>\n",
       "    <tr>\n",
       "      <th>2012-10-04</th>\n",
       "      <td>1451.079956</td>\n",
       "      <td>1463.140015</td>\n",
       "      <td>1451.079956</td>\n",
       "      <td>1461.400024</td>\n",
       "      <td>1461.400024</td>\n",
       "      <td>3615860000</td>\n",
       "    </tr>\n",
       "    <tr>\n",
       "      <th>2012-10-05</th>\n",
       "      <td>1461.400024</td>\n",
       "      <td>1470.959961</td>\n",
       "      <td>1456.890015</td>\n",
       "      <td>1460.930054</td>\n",
       "      <td>1460.930054</td>\n",
       "      <td>3172940000</td>\n",
       "    </tr>\n",
       "  </tbody>\n",
       "</table>\n",
       "</div>"
      ],
      "text/plain": [
       "                   Open         High          Low        Close    Adj Close  \\\n",
       "Date                                                                          \n",
       "2012-10-01  1440.900024  1457.140015  1440.900024  1444.489990  1444.489990   \n",
       "2012-10-02  1444.989990  1451.520020  1439.010010  1445.750000  1445.750000   \n",
       "2012-10-03  1446.050049  1454.300049  1441.989990  1450.989990  1450.989990   \n",
       "2012-10-04  1451.079956  1463.140015  1451.079956  1461.400024  1461.400024   \n",
       "2012-10-05  1461.400024  1470.959961  1456.890015  1460.930054  1460.930054   \n",
       "\n",
       "                Volume  \n",
       "Date                    \n",
       "2012-10-01  3505080000  \n",
       "2012-10-02  3321790000  \n",
       "2012-10-03  3531640000  \n",
       "2012-10-04  3615860000  \n",
       "2012-10-05  3172940000  "
      ]
     },
     "execution_count": 25,
     "metadata": {},
     "output_type": "execute_result"
    }
   ],
   "source": [
    "import pandas as pd \n",
    "import numpy as np\n",
    "\n",
    "sp500 = pd.read_csv(\"../data/sp500.csv\", index_col = \"Date\")\n",
    "sp500.head()"
   ]
  }
 ],
 "metadata": {
  "kernelspec": {
   "display_name": "Python 3",
   "language": "python",
   "name": "python3"
  },
  "language_info": {
   "codemirror_mode": {
    "name": "ipython",
    "version": 3
   },
   "file_extension": ".py",
   "mimetype": "text/x-python",
   "name": "python",
   "nbconvert_exporter": "python",
   "pygments_lexer": "ipython3",
   "version": "3.6.2"
  }
 },
 "nbformat": 4,
 "nbformat_minor": 2
}
