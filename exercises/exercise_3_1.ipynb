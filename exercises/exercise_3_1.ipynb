{
 "cells": [
  {
   "cell_type": "markdown",
   "metadata": {},
   "source": [
    "### Mini exerceise\n",
    "\n",
    "- Fit en model for avocado pris-sættet\n",
    "- Modellen skal lade AveragePrice som funktion af Total volume\n",
    "- Undersøg koefficienter\n",
    "- Plot evt. regressions-linjen\n",
    "\n",
    "```\n",
    "Coef = pd.DataFrame([reg.coef_,df[predictors_1].columns],index=[\"Beta\",\"Predictor\"]).T\n",
    "Coef.sort_values(\"Beta\")\n",
    "```\n",
    "\n",
    "$$\n",
    "    \\text{AveragePrice} = \\alpha + \\beta \\cdot \\text{Total Volume} + \\varepsilon, \\quad \\varepsilon \\sim N(0,1)\n",
    "$$"
   ]
  },
  {
   "cell_type": "code",
   "execution_count": 21,
   "metadata": {},
   "outputs": [
    {
     "data": {
      "text/html": [
       "<div>\n",
       "<style scoped>\n",
       "    .dataframe tbody tr th:only-of-type {\n",
       "        vertical-align: middle;\n",
       "    }\n",
       "\n",
       "    .dataframe tbody tr th {\n",
       "        vertical-align: top;\n",
       "    }\n",
       "\n",
       "    .dataframe thead th {\n",
       "        text-align: right;\n",
       "    }\n",
       "</style>\n",
       "<table border=\"1\" class=\"dataframe\">\n",
       "  <thead>\n",
       "    <tr style=\"text-align: right;\">\n",
       "      <th></th>\n",
       "      <th>Date</th>\n",
       "      <th>AveragePrice</th>\n",
       "      <th>total_volume</th>\n",
       "    </tr>\n",
       "  </thead>\n",
       "  <tbody>\n",
       "    <tr>\n",
       "      <th>9126</th>\n",
       "      <td>2015-12-27</td>\n",
       "      <td>1.83</td>\n",
       "      <td>989.55</td>\n",
       "    </tr>\n",
       "    <tr>\n",
       "      <th>9127</th>\n",
       "      <td>2015-12-20</td>\n",
       "      <td>1.89</td>\n",
       "      <td>1163.03</td>\n",
       "    </tr>\n",
       "    <tr>\n",
       "      <th>9128</th>\n",
       "      <td>2015-12-13</td>\n",
       "      <td>1.85</td>\n",
       "      <td>995.96</td>\n",
       "    </tr>\n",
       "    <tr>\n",
       "      <th>9129</th>\n",
       "      <td>2015-12-06</td>\n",
       "      <td>1.84</td>\n",
       "      <td>1158.42</td>\n",
       "    </tr>\n",
       "    <tr>\n",
       "      <th>9130</th>\n",
       "      <td>2015-11-29</td>\n",
       "      <td>1.94</td>\n",
       "      <td>831.69</td>\n",
       "    </tr>\n",
       "  </tbody>\n",
       "</table>\n",
       "</div>"
      ],
      "text/plain": [
       "            Date  AveragePrice  total_volume\n",
       "9126  2015-12-27          1.83        989.55\n",
       "9127  2015-12-20          1.89       1163.03\n",
       "9128  2015-12-13          1.85        995.96\n",
       "9129  2015-12-06          1.84       1158.42\n",
       "9130  2015-11-29          1.94        831.69"
      ]
     },
     "execution_count": 21,
     "metadata": {},
     "output_type": "execute_result"
    }
   ],
   "source": [
    "import pandas as pd\n",
    "from sklearn import linear_model\n",
    "import plotly.graph_objects as go\n",
    "import plotly.express as px\n",
    "\n",
    "\n",
    "\n",
    "avocados = pd.read_csv(\"../data/avocado.csv\", usecols=[\"Date\",\"AveragePrice\",\"total_volume\",\"region\",\"type\"])\\\n",
    ".query('region==\"Albany\"').query('type==\"organic\"').drop([\"region\",\"type\"],axis=1)\n",
    "avocados.head()"
   ]
  }
 ],
 "metadata": {
  "kernelspec": {
   "display_name": "Python 3",
   "language": "python",
   "name": "python3"
  },
  "language_info": {
   "codemirror_mode": {
    "name": "ipython",
    "version": 3
   },
   "file_extension": ".py",
   "mimetype": "text/x-python",
   "name": "python",
   "nbconvert_exporter": "python",
   "pygments_lexer": "ipython3",
   "version": "3.6.2"
  }
 },
 "nbformat": 4,
 "nbformat_minor": 2
}
